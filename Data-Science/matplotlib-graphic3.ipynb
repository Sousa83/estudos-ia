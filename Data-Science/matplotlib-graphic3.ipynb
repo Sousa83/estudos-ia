{
 "cells": [
  {
   "cell_type": "code",
   "execution_count": 1,
   "metadata": {},
   "outputs": [],
   "source": [
    "import matplotlib.pyplot as plt"
   ]
  },
  {
   "cell_type": "code",
   "execution_count": 3,
   "metadata": {},
   "outputs": [
    {
     "data": {
      "text/plain": [
       "([<matplotlib.patches.Wedge at 0x2b4dd4ae4c0>,\n",
       "  <matplotlib.patches.Wedge at 0x2b4dd4aebb0>],\n",
       " [Text(0.9526279355804298, 0.5500000148652441, 'turma A'),\n",
       "  Text(-0.9526279613277877, -0.5499999702695112, 'turma B')],\n",
       " [Text(0.5196152375893253, 0.30000000810831495, '16.7%'),\n",
       "  Text(-0.5196152516333387, -0.2999999837833697, '83.3%')])"
      ]
     },
     "execution_count": 3,
     "metadata": {},
     "output_type": "execute_result"
    },
    {
     "data": {
      "image/png": "[encoded data removed]",
      "text/plain": [
       "<Figure size 432x288 with 1 Axes>"
      ]
     },
     "metadata": {},
     "output_type": "display_data"
    }
   ],
   "source": [
    "label = ['turma A', 'turma B']\n",
    "dados = [10, 50]\n",
    "\n",
    "#Não há como fechar um gráfico de setores sem ter 100% dos dados, então a biblioteca aumenta proporcionamente os dois lados para que fique \n",
    "#correspondentes\n",
    "\n",
    "fig, ax = plt.subplots()\n",
    "\n",
    "ax.pie(dados, labels=label, autopct='%1.1f%%')"
   ]
  },
  {
   "cell_type": "code",
   "execution_count": null,
   "metadata": {},
   "outputs": [],
   "source": []
  }
 ],
 "metadata": {
  "kernelspec": {
   "display_name": "Python 3",
   "language": "python",
   "name": "python3"
  },
  "language_info": {
   "codemirror_mode": {
    "name": "ipython",
    "version": 3
   },
   "file_extension": ".py",
   "mimetype": "text/x-python",
   "name": "python",
   "nbconvert_exporter": "python",
   "pygments_lexer": "ipython3",
   "version": "3.8.5"
  }
 },
 "nbformat": 4,
 "nbformat_minor": 4
}
