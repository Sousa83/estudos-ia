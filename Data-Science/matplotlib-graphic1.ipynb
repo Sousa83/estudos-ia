{
 "cells": [
  {
   "cell_type": "code",
   "execution_count": 1,
   "metadata": {},
   "outputs": [],
   "source": [
    "#Gráfico de barras\n",
    "import matplotlib.pyplot as plt"
   ]
  },
  {
   "cell_type": "code",
   "execution_count": 2,
   "metadata": {},
   "outputs": [],
   "source": [
    "#x = estudantes, y = notas\n",
    "#X será o primeiro parâmetro do \"bar()\" e que corresponde às barras\n",
    "#Y será o segundo, correspondente ao eixo Y\n",
    "\n",
    "x1 = [1, 3, 5, 7] \n",
    "y1 = [5, 8, 4, 9]\n",
    "\n",
    "x2 = [2, 4, 6, 8] \n",
    "y2 = [4, 6, 9, 6]"
   ]
  },
  {
   "cell_type": "code",
   "execution_count": 4,
   "metadata": {},
   "outputs": [
    {
     "data": {
      "text/plain": [
       "Text(0.5, 1.0, 'Relação de estudantes e notas')"
      ]
     },
     "execution_count": 4,
     "metadata": {},
     "output_type": "execute_result"
    },
    {
     "data": {
      "image/png": "[encoded data removed]",
      "text/plain": [
       "<Figure size 432x288 with 1 Axes>"
      ]
     },
     "metadata": {
      "needs_background": "light"
     },
     "output_type": "display_data"
    }
   ],
   "source": [
    "plt.bar(x1, y1, color = 'blue', label = 'turma A')\n",
    "plt.bar(x2, y2, color = 'red', label = 'turma b')\n",
    "plt.ylabel('Notas')\n",
    "plt.xlabel('Estudantes')\n",
    "plt.legend()\n",
    "plt.title('Relação de estudantes e notas')"
   ]
  },
  {
   "cell_type": "code",
   "execution_count": null,
   "metadata": {},
   "outputs": [],
   "source": []
  }
 ],
 "metadata": {
  "kernelspec": {
   "display_name": "Python 3",
   "language": "python",
   "name": "python3"
  },
  "language_info": {
   "codemirror_mode": {
    "name": "ipython",
    "version": 3
   },
   "file_extension": ".py",
   "mimetype": "text/x-python",
   "name": "python",
   "nbconvert_exporter": "python",
   "pygments_lexer": "ipython3",
   "version": "3.8.5"
  }
 },
 "nbformat": 4,
 "nbformat_minor": 4
}
